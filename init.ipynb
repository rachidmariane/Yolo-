{
 "cells": [
  {
   "cell_type": "code",
   "execution_count": 1,
   "metadata": {},
   "outputs": [],
   "source": [
    "import os\n",
    "import numpy as np\n",
    "import pandas as pd\n",
    "import matplotlib.pyplot as plt\n",
    "import cv2\n",
    "from sklearn.model_selection import train_test_split\n",
    "import torch\n",
    "import torch.nn as nn\n",
    "from torch.utils.data import Dataset, DataLoader\n",
    "import torchvision.transforms as transforms"
   ]
  },
  {
   "cell_type": "code",
   "execution_count": 2,
   "metadata": {},
   "outputs": [
    {
     "name": "stderr",
     "output_type": "stream",
     "text": [
      "c:\\Users\\rachid.mariane\\OneDrive - Tersea\\Bureau\\YOLO\\myenv\\Lib\\site-packages\\tqdm\\auto.py:21: TqdmWarning: IProgress not found. Please update jupyter and ipywidgets. See https://ipywidgets.readthedocs.io/en/stable/user_install.html\n",
      "  from .autonotebook import tqdm as notebook_tqdm\n"
     ]
    },
    {
     "name": "stdout",
     "output_type": "stream",
     "text": [
      "Téléchargement du dataset...\n",
      "Dataset téléchargé dans: C:\\Users\\rachid.mariane\\.cache\\kagglehub\\datasets\\kmader\\malaria-bounding-boxes\\versions\\1\n"
     ]
    }
   ],
   "source": [
    "import kagglehub\n",
    "\n",
    "# 1. Téléchargement et exploration du dataset\n",
    "print(\"Téléchargement du dataset...\")\n",
    "path = kagglehub.dataset_download(\"kmader/malaria-bounding-boxes\")\n",
    "print(f\"Dataset téléchargé dans: {path}\")"
   ]
  },
  {
   "cell_type": "code",
   "execution_count": 3,
   "metadata": {},
   "outputs": [],
   "source": [
    "# Définir les chemins des données\n",
    "images_dir = os.path.join(path, \"images\")\n",
    "annotations_file = os.path.join(path, \"bounding_boxes.csv\")"
   ]
  },
  {
   "cell_type": "code",
   "execution_count": 29,
   "metadata": {},
   "outputs": [
    {
     "name": "stdout",
     "output_type": "stream",
     "text": [
      "Nombre total d'annotations: 120\n",
      "Aperçu des premières annotations: [{'image': {'checksum': 'eea3bfd6a929bcb06f9786667cd3fbb2', 'pathname': '/images/41be1bd3-0d31-4881-bf1f-3ccdfa21ff12.jpg', 'shape': {'r': 1383, 'c': 1944, 'channels': 3}}, 'objects': [{'bounding_box': {'minimum': {'r': 576, 'c': 1744}, 'maximum': {'r': 708, 'c': 1883}}, 'category': 'red blood cell'}, {'bounding_box': {'minimum': {'r': 863, 'c': 1249}, 'maximum': {'r': 977, 'c': 1373}}, 'category': 'red blood cell'}, {'bounding_box': {'minimum': {'r': 210, 'c': 1573}, 'maximum': {'r': 335, 'c': 1711}}, 'category': 'red blood cell'}, {'bounding_box': {'minimum': {'r': 1017, 'c': 1124}, 'maximum': {'r': 1142, 'c': 1253}}, 'category': 'red blood cell'}, {'bounding_box': {'minimum': {'r': 572, 'c': 1655}, 'maximum': {'r': 695, 'c': 1763}}, 'category': 'red blood cell'}, {'bounding_box': {'minimum': {'r': 477, 'c': 1307}, 'maximum': {'r': 590, 'c': 1429}}, 'category': 'red blood cell'}, {'bounding_box': {'minimum': {'r': 962, 'c': 595}, 'maximum': {'r': 1089, 'c': 738}}, 'category': 'red blood cell'}, {'bounding_box': {'minimum': {'r': 417, 'c': 1699}, 'maximum': {'r': 551, 'c': 1838}}, 'category': 'red blood cell'}, {'bounding_box': {'minimum': {'r': 1162, 'c': 767}, 'maximum': {'r': 1284, 'c': 894}}, 'category': 'red blood cell'}, {'bounding_box': {'minimum': {'r': 1080, 'c': 654}, 'maximum': {'r': 1199, 'c': 774}}, 'category': 'red blood cell'}, {'bounding_box': {'minimum': {'r': 961, 'c': 1338}, 'maximum': {'r': 1089, 'c': 1479}}, 'category': 'red blood cell'}, {'bounding_box': {'minimum': {'r': 624, 'c': 910}, 'maximum': {'r': 746, 'c': 1034}}, 'category': 'red blood cell'}, {'bounding_box': {'minimum': {'r': 1122, 'c': 1319}, 'maximum': {'r': 1252, 'c': 1457}}, 'category': 'red blood cell'}, {'bounding_box': {'minimum': {'r': 890, 'c': 477}, 'maximum': {'r': 1004, 'c': 617}}, 'category': 'red blood cell'}, {'bounding_box': {'minimum': {'r': 514, 'c': 410}, 'maximum': {'r': 654, 'c': 551}}, 'category': 'red blood cell'}, {'bounding_box': {'minimum': {'r': 345, 'c': 1802}, 'maximum': {'r': 491, 'c': 1931}}, 'category': 'red blood cell'}, {'bounding_box': {'minimum': {'r': 248, 'c': 34}, 'maximum': {'r': 375, 'c': 184}}, 'category': 'red blood cell'}, {'bounding_box': {'minimum': {'r': 875, 'c': 755}, 'maximum': {'r': 1014, 'c': 899}}, 'category': 'red blood cell'}, {'bounding_box': {'minimum': {'r': 85, 'c': 186}, 'maximum': {'r': 213, 'c': 305}}, 'category': 'red blood cell'}, {'bounding_box': {'minimum': {'r': 590, 'c': 1487}, 'maximum': {'r': 708, 'c': 1612}}, 'category': 'red blood cell'}, {'bounding_box': {'minimum': {'r': 820, 'c': 1130}, 'maximum': {'r': 915, 'c': 1233}}, 'category': 'red blood cell'}, {'bounding_box': {'minimum': {'r': 867, 'c': 1483}, 'maximum': {'r': 1012, 'c': 1625}}, 'category': 'red blood cell'}, {'bounding_box': {'minimum': {'r': 826, 'c': 875}, 'maximum': {'r': 942, 'c': 1002}}, 'category': 'red blood cell'}, {'bounding_box': {'minimum': {'r': 326, 'c': 1526}, 'maximum': {'r': 465, 'c': 1669}}, 'category': 'red blood cell'}, {'bounding_box': {'minimum': {'r': 935, 'c': 829}, 'maximum': {'r': 1069, 'c': 977}}, 'category': 'red blood cell'}, {'bounding_box': {'minimum': {'r': 685, 'c': 414}, 'maximum': {'r': 809, 'c': 576}}, 'category': 'red blood cell'}, {'bounding_box': {'minimum': {'r': 1009, 'c': 755}, 'maximum': {'r': 1137, 'c': 890}}, 'category': 'red blood cell'}, {'bounding_box': {'minimum': {'r': 191, 'c': 362}, 'maximum': {'r': 303, 'c': 471}}, 'category': 'red blood cell'}, {'bounding_box': {'minimum': {'r': 771, 'c': 348}, 'maximum': {'r': 913, 'c': 495}}, 'category': 'red blood cell'}, {'bounding_box': {'minimum': {'r': 259, 'c': 592}, 'maximum': {'r': 390, 'c': 752}}, 'category': 'red blood cell'}, {'bounding_box': {'minimum': {'r': 734, 'c': 1310}, 'maximum': {'r': 873, 'c': 1458}}, 'category': 'red blood cell'}, {'bounding_box': {'minimum': {'r': 358, 'c': 108}, 'maximum': {'r': 510, 'c': 239}}, 'category': 'red blood cell'}, {'bounding_box': {'minimum': {'r': 260, 'c': 440}, 'maximum': {'r': 380, 'c': 596}}, 'category': 'red blood cell'}, {'bounding_box': {'minimum': {'r': 1157, 'c': 963}, 'maximum': {'r': 1293, 'c': 1110}}, 'category': 'red blood cell'}, {'bounding_box': {'minimum': {'r': 717, 'c': 1545}, 'maximum': {'r': 864, 'c': 1682}}, 'category': 'red blood cell'}, {'bounding_box': {'minimum': {'r': 709, 'c': 1043}, 'maximum': {'r': 815, 'c': 1150}}, 'category': 'red blood cell'}, {'bounding_box': {'minimum': {'r': 585, 'c': 1377}, 'maximum': {'r': 673, 'c': 1513}}, 'category': 'red blood cell'}, {'bounding_box': {'minimum': {'r': 121, 'c': 445}, 'maximum': {'r': 268, 'c': 588}}, 'category': 'red blood cell'}, {'bounding_box': {'minimum': {'r': 629, 'c': 1008}, 'maximum': {'r': 748, 'c': 1127}}, 'category': 'red blood cell'}, {'bounding_box': {'minimum': {'r': 358, 'c': 520}, 'maximum': {'r': 473, 'c': 652}}, 'category': 'red blood cell'}, {'bounding_box': {'minimum': {'r': 1021, 'c': 1244}, 'maximum': {'r': 1170, 'c': 1391}}, 'category': 'red blood cell'}, {'bounding_box': {'minimum': {'r': 551, 'c': 153}, 'maximum': {'r': 702, 'c': 300}}, 'category': 'red blood cell'}, {'bounding_box': {'minimum': {'r': 841, 'c': 1364}, 'maximum': {'r': 992, 'c': 1506}}, 'category': 'red blood cell'}, {'bounding_box': {'minimum': {'r': 104, 'c': 86}, 'maximum': {'r': 273, 'c': 225}}, 'category': 'red blood cell'}, {'bounding_box': {'minimum': {'r': 1076, 'c': 887}, 'maximum': {'r': 1203, 'c': 1048}}, 'category': 'red blood cell'}, {'bounding_box': {'minimum': {'r': 245, 'c': 1070}, 'maximum': {'r': 380, 'c': 1210}}, 'category': 'red blood cell'}, {'bounding_box': {'minimum': {'r': 434, 'c': 1473}, 'maximum': {'r': 570, 'c': 1606}}, 'category': 'red blood cell'}, {'bounding_box': {'minimum': {'r': 1135, 'c': 1082}, 'maximum': {'r': 1227, 'c': 1292}}, 'category': 'red blood cell'}, {'bounding_box': {'minimum': {'r': 787, 'c': 928}, 'maximum': {'r': 902, 'c': 1074}}, 'category': 'red blood cell'}, {'bounding_box': {'minimum': {'r': 890, 'c': 970}, 'maximum': {'r': 1026, 'c': 1123}}, 'category': 'red blood cell'}, {'bounding_box': {'minimum': {'r': 186, 'c': 486}, 'maximum': {'r': 285, 'c': 638}}, 'category': 'red blood cell'}, {'bounding_box': {'minimum': {'r': 72, 'c': 1038}, 'maximum': {'r': 182, 'c': 1159}}, 'category': 'red blood cell'}, {'bounding_box': {'minimum': {'r': 990, 'c': 940}, 'maximum': {'r': 1113, 'c': 1065}}, 'category': 'red blood cell'}, {'bounding_box': {'minimum': {'r': 680, 'c': 219}, 'maximum': {'r': 797, 'c': 383}}, 'category': 'red blood cell'}, {'bounding_box': {'minimum': {'r': 2, 'c': 123}, 'maximum': {'r': 109, 'c': 234}}, 'category': 'red blood cell'}, {'bounding_box': {'minimum': {'r': 777, 'c': 1455}, 'maximum': {'r': 900, 'c': 1609}}, 'category': 'red blood cell'}, {'bounding_box': {'minimum': {'r': 602, 'c': 1302}, 'maximum': {'r': 708, 'c': 1379}}, 'category': 'red blood cell'}, {'bounding_box': {'minimum': {'r': 121, 'c': 1066}, 'maximum': {'r': 229, 'c': 1185}}, 'category': 'red blood cell'}, {'bounding_box': {'minimum': {'r': 539, 'c': 300}, 'maximum': {'r': 680, 'c': 406}}, 'category': 'red blood cell'}, {'bounding_box': {'minimum': {'r': 0, 'c': 1744}, 'maximum': {'r': 188, 'c': 1854}}, 'category': 'red blood cell'}, {'bounding_box': {'minimum': {'r': 468, 'c': 1832}, 'maximum': {'r': 595, 'c': 1943}}, 'category': 'red blood cell'}, {'bounding_box': {'minimum': {'r': 361, 'c': 0}, 'maximum': {'r': 486, 'c': 132}}, 'category': 'red blood cell'}, {'bounding_box': {'minimum': {'r': 1233, 'c': 1103}, 'maximum': {'r': 1357, 'c': 1255}}, 'category': 'red blood cell'}, {'bounding_box': {'minimum': {'r': 445, 'c': 589}, 'maximum': {'r': 611, 'c': 769}}, 'category': 'trophozoite'}, {'bounding_box': {'minimum': {'r': 197, 'c': 223}, 'maximum': {'r': 320, 'c': 348}}, 'category': 'red blood cell'}, {'bounding_box': {'minimum': {'r': 658, 'c': 1401}, 'maximum': {'r': 812, 'c': 1566}}, 'category': 'red blood cell'}, {'bounding_box': {'minimum': {'r': 416, 'c': 1444}, 'maximum': {'r': 543, 'c': 1531}}, 'category': 'red blood cell'}]}, {'image': {'checksum': '2d85fc8ffdb875bb569878243437e4f5', 'pathname': '/images/64985a1e-16bb-4016-a01c-c21a5b86e572.jpg', 'shape': {'r': 1383, 'c': 1944, 'channels': 3}}, 'objects': [{'bounding_box': {'minimum': {'r': 1048, 'c': 1632}, 'maximum': {'r': 1170, 'c': 1767}}, 'category': 'red blood cell'}, {'bounding_box': {'minimum': {'r': 915, 'c': 1155}, 'maximum': {'r': 1058, 'c': 1292}}, 'category': 'red blood cell'}, {'bounding_box': {'minimum': {'r': 735, 'c': 1237}, 'maximum': {'r': 868, 'c': 1367}}, 'category': 'red blood cell'}, {'bounding_box': {'minimum': {'r': 258, 'c': 1755}, 'maximum': {'r': 390, 'c': 1891}}, 'category': 'red blood cell'}, {'bounding_box': {'minimum': {'r': 922, 'c': 1521}, 'maximum': {'r': 1049, 'c': 1656}}, 'category': 'red blood cell'}, {'bounding_box': {'minimum': {'r': 794, 'c': 1608}, 'maximum': {'r': 914, 'c': 1731}}, 'category': 'red blood cell'}, {'bounding_box': {'minimum': {'r': 333, 'c': 1264}, 'maximum': {'r': 460, 'c': 1401}}, 'category': 'red blood cell'}, {'bounding_box': {'minimum': {'r': 121, 'c': 1705}, 'maximum': {'r': 253, 'c': 1847}}, 'category': 'red blood cell'}, {'bounding_box': {'minimum': {'r': 1173, 'c': 1443}, 'maximum': {'r': 1308, 'c': 1582}}, 'category': 'red blood cell'}, {'bounding_box': {'minimum': {'r': 958, 'c': 921}, 'maximum': {'r': 1089, 'c': 1062}}, 'category': 'red blood cell'}, {'bounding_box': {'minimum': {'r': 411, 'c': 1095}, 'maximum': {'r': 546, 'c': 1241}}, 'category': 'red blood cell'}, {'bounding_box': {'minimum': {'r': 398, 'c': 946}, 'maximum': {'r': 531, 'c': 1085}}, 'category': 'red blood cell'}, {'bounding_box': {'minimum': {'r': 26, 'c': 771}, 'maximum': {'r': 151, 'c': 911}}, 'category': 'red blood cell'}, {'bounding_box': {'minimum': {'r': 239, 'c': 942}, 'maximum': {'r': 372, 'c': 1076}}, 'category': 'red blood cell'}, {'bounding_box': {'minimum': {'r': 59, 'c': 1538}, 'maximum': {'r': 178, 'c': 1673}}, 'category': 'red blood cell'}, {'bounding_box': {'minimum': {'r': 1196, 'c': 267}, 'maximum': {'r': 1324, 'c': 413}}, 'category': 'red blood cell'}, {'bounding_box': {'minimum': {'r': 90, 'c': 943}, 'maximum': {'r': 222, 'c': 1098}}, 'category': 'red blood cell'}, {'bounding_box': {'minimum': {'r': 869, 'c': 1701}, 'maximum': {'r': 1009, 'c': 1839}}, 'category': 'red blood cell'}, {'bounding_box': {'minimum': {'r': 786, 'c': 196}, 'maximum': {'r': 913, 'c': 341}}, 'category': 'red blood cell'}, {'bounding_box': {'minimum': {'r': 801, 'c': 1063}, 'maximum': {'r': 934, 'c': 1197}}, 'category': 'red blood cell'}, {'bounding_box': {'minimum': {'r': 632, 'c': 690}, 'maximum': {'r': 761, 'c': 810}}, 'category': 'red blood cell'}, {'bounding_box': {'minimum': {'r': 478, 'c': 804}, 'maximum': {'r': 602, 'c': 926}}, 'category': 'red blood cell'}, {'bounding_box': {'minimum': {'r': 375, 'c': 443}, 'maximum': {'r': 501, 'c': 568}}, 'category': 'red blood cell'}, {'bounding_box': {'minimum': {'r': 972, 'c': 431}, 'maximum': {'r': 1109, 'c': 584}}, 'category': 'red blood cell'}, {'bounding_box': {'minimum': {'r': 306, 'c': 491}, 'maximum': {'r': 438, 'c': 642}}, 'category': 'red blood cell'}, {'bounding_box': {'minimum': {'r': 322, 'c': 1039}, 'maximum': {'r': 434, 'c': 1170}}, 'category': 'red blood cell'}, {'bounding_box': {'minimum': {'r': 714, 'c': 1117}, 'maximum': {'r': 841, 'c': 1242}}, 'category': 'red blood cell'}, {'bounding_box': {'minimum': {'r': 1217, 'c': 1328}, 'maximum': {'r': 1354, 'c': 1474}}, 'category': 'red blood cell'}, {'bounding_box': {'minimum': {'r': 178, 'c': 1189}, 'maximum': {'r': 313, 'c': 1332}}, 'category': 'red blood cell'}, {'bounding_box': {'minimum': {'r': 1139, 'c': 807}, 'maximum': {'r': 1282, 'c': 964}}, 'category': 'red blood cell'}, {'bounding_box': {'minimum': {'r': 518, 'c': 1010}, 'maximum': {'r': 659, 'c': 1141}}, 'category': 'red blood cell'}, {'bounding_box': {'minimum': {'r': 918, 'c': 1328}, 'maximum': {'r': 1062, 'c': 1472}}, 'category': 'red blood cell'}, {'bounding_box': {'minimum': {'r': 337, 'c': 32}, 'maximum': {'r': 476, 'c': 182}}, 'category': 'red blood cell'}, {'bounding_box': {'minimum': {'r': 248, 'c': 85}, 'maximum': {'r': 377, 'c': 232}}, 'category': 'red blood cell'}, {'bounding_box': {'minimum': {'r': 1193, 'c': 613}, 'maximum': {'r': 1353, 'c': 765}}, 'category': 'red blood cell'}, {'bounding_box': {'minimum': {'r': 581, 'c': 109}, 'maximum': {'r': 717, 'c': 259}}, 'category': 'red blood cell'}, {'bounding_box': {'minimum': {'r': 651, 'c': 211}, 'maximum': {'r': 790, 'c': 372}}, 'category': 'red blood cell'}, {'bounding_box': {'minimum': {'r': 208, 'c': 661}, 'maximum': {'r': 337, 'c': 810}}, 'category': 'red blood cell'}, {'bounding_box': {'minimum': {'r': 719, 'c': 917}, 'maximum': {'r': 852, 'c': 1077}}, 'category': 'red blood cell'}, {'bounding_box': {'minimum': {'r': 281, 'c': 266}, 'maximum': {'r': 418, 'c': 406}}, 'category': 'red blood cell'}, {'bounding_box': {'minimum': {'r': 493, 'c': 463}, 'maximum': {'r': 613, 'c': 612}}, 'category': 'red blood cell'}, {'bounding_box': {'minimum': {'r': 480, 'c': 183}, 'maximum': {'r': 599, 'c': 331}}, 'category': 'red blood cell'}, {'bounding_box': {'minimum': {'r': 668, 'c': 816}, 'maximum': {'r': 795, 'c': 960}}, 'category': 'red blood cell'}, {'bounding_box': {'minimum': {'r': 533, 'c': 1129}, 'maximum': {'r': 690, 'c': 1285}}, 'category': 'red blood cell'}, {'bounding_box': {'minimum': {'r': 130, 'c': 713}, 'maximum': {'r': 253, 'c': 851}}, 'category': 'red blood cell'}, {'bounding_box': {'minimum': {'r': 1240, 'c': 159}, 'maximum': {'r': 1382, 'c': 296}}, 'category': 'red blood cell'}, {'bounding_box': {'minimum': {'r': 1059, 'c': 162}, 'maximum': {'r': 1212, 'c': 327}}, 'category': 'red blood cell'}, {'bounding_box': {'minimum': {'r': 361, 'c': 255}, 'maximum': {'r': 477, 'c': 391}}, 'category': 'red blood cell'}, {'bounding_box': {'minimum': {'r': 830, 'c': 922}, 'maximum': {'r': 955, 'c': 1076}}, 'category': 'red blood cell'}, {'bounding_box': {'minimum': {'r': 1205, 'c': 1619}, 'maximum': {'r': 1336, 'c': 1748}}, 'category': 'red blood cell'}, {'bounding_box': {'minimum': {'r': 336, 'c': 791}, 'maximum': {'r': 465, 'c': 959}}, 'category': 'red blood cell'}, {'bounding_box': {'minimum': {'r': 1251, 'c': 748}, 'maximum': {'r': 1382, 'c': 901}}, 'category': 'red blood cell'}, {'bounding_box': {'minimum': {'r': 1229, 'c': 1612}, 'maximum': {'r': 1363, 'c': 1807}}, 'category': 'red blood cell'}, {'bounding_box': {'minimum': {'r': 591, 'c': 499}, 'maximum': {'r': 744, 'c': 669}}, 'category': 'ring'}, {'bounding_box': {'minimum': {'r': 1026, 'c': 299}, 'maximum': {'r': 1184, 'c': 465}}, 'category': 'ring'}, {'bounding_box': {'minimum': {'r': 180, 'c': 489}, 'maximum': {'r': 313, 'c': 668}}, 'category': 'ring'}]}, {'image': {'checksum': 'f7c02b6247f3ccfcd4a22c1f06e0c72c', 'pathname': '/images/c70894fa-50e8-4eed-a5a8-159a20153a49.jpg', 'shape': {'r': 1383, 'c': 1944, 'channels': 3}}, 'objects': [{'bounding_box': {'minimum': {'r': 979, 'c': 960}, 'maximum': {'r': 1107, 'c': 1095}}, 'category': 'red blood cell'}, {'bounding_box': {'minimum': {'r': 1214, 'c': 114}, 'maximum': {'r': 1332, 'c': 235}}, 'category': 'red blood cell'}, {'bounding_box': {'minimum': {'r': 1051, 'c': 638}, 'maximum': {'r': 1188, 'c': 782}}, 'category': 'red blood cell'}, {'bounding_box': {'minimum': {'r': 759, 'c': 189}, 'maximum': {'r': 872, 'c': 315}}, 'category': 'red blood cell'}, {'bounding_box': {'minimum': {'r': 1226, 'c': 1209}, 'maximum': {'r': 1354, 'c': 1327}}, 'category': 'red blood cell'}, {'bounding_box': {'minimum': {'r': 1102, 'c': 312}, 'maximum': {'r': 1206, 'c': 446}}, 'category': 'red blood cell'}, {'bounding_box': {'minimum': {'r': 1002, 'c': 402}, 'maximum': {'r': 1129, 'c': 518}}, 'category': 'red blood cell'}, {'bounding_box': {'minimum': {'r': 1088, 'c': 478}, 'maximum': {'r': 1212, 'c': 633}}, 'category': 'red blood cell'}, {'bounding_box': {'minimum': {'r': 1089, 'c': 1302}, 'maximum': {'r': 1242, 'c': 1456}}, 'category': 'red blood cell'}, {'bounding_box': {'minimum': {'r': 1250, 'c': 736}, 'maximum': {'r': 1376, 'c': 883}}, 'category': 'red blood cell'}, {'bounding_box': {'minimum': {'r': 152, 'c': 559}, 'maximum': {'r': 294, 'c': 711}}, 'category': 'red blood cell'}, {'bounding_box': {'minimum': {'r': 783, 'c': 403}, 'maximum': {'r': 926, 'c': 554}}, 'category': 'red blood cell'}, {'bounding_box': {'minimum': {'r': 1122, 'c': 1462}, 'maximum': {'r': 1256, 'c': 1581}}, 'category': 'red blood cell'}, {'bounding_box': {'minimum': {'r': 606, 'c': 264}, 'maximum': {'r': 742, 'c': 400}}, 'category': 'red blood cell'}, {'bounding_box': {'minimum': {'r': 568, 'c': 729}, 'maximum': {'r': 702, 'c': 881}}, 'category': 'red blood cell'}, {'bounding_box': {'minimum': {'r': 910, 'c': 375}, 'maximum': {'r': 1035, 'c': 512}}, 'category': 'red blood cell'}, {'bounding_box': {'minimum': {'r': 888, 'c': 572}, 'maximum': {'r': 1024, 'c': 728}}, 'category': 'red blood cell'}, {'bounding_box': {'minimum': {'r': 944, 'c': 1525}, 'maximum': {'r': 1062, 'c': 1671}}, 'category': 'red blood cell'}, {'bounding_box': {'minimum': {'r': 443, 'c': 724}, 'maximum': {'r': 591, 'c': 856}}, 'category': 'red blood cell'}, {'bounding_box': {'minimum': {'r': 1149, 'c': 1568}, 'maximum': {'r': 1304, 'c': 1682}}, 'category': 'red blood cell'}, {'bounding_box': {'minimum': {'r': 1139, 'c': 1644}, 'maximum': {'r': 1251, 'c': 1771}}, 'category': 'red blood cell'}, {'bounding_box': {'minimum': {'r': 106, 'c': 1755}, 'maximum': {'r': 257, 'c': 1913}}, 'category': 'red blood cell'}, {'bounding_box': {'minimum': {'r': 1105, 'c': 1780}, 'maximum': {'r': 1246, 'c': 1923}}, 'category': 'red blood cell'}, {'bounding_box': {'minimum': {'r': 847, 'c': 994}, 'maximum': {'r': 991, 'c': 1146}}, 'category': 'red blood cell'}, {'bounding_box': {'minimum': {'r': 749, 'c': 613}, 'maximum': {'r': 906, 'c': 745}}, 'category': 'red blood cell'}, {'bounding_box': {'minimum': {'r': 803, 'c': 1776}, 'maximum': {'r': 954, 'c': 1912}}, 'category': 'red blood cell'}, {'bounding_box': {'minimum': {'r': 454, 'c': 402}, 'maximum': {'r': 576, 'c': 535}}, 'category': 'red blood cell'}, {'bounding_box': {'minimum': {'r': 396, 'c': 1412}, 'maximum': {'r': 546, 'c': 1557}}, 'category': 'red blood cell'}, {'bounding_box': {'minimum': {'r': 217, 'c': 1572}, 'maximum': {'r': 385, 'c': 1693}}, 'category': 'red blood cell'}, {'bounding_box': {'minimum': {'r': 1043, 'c': 1637}, 'maximum': {'r': 1154, 'c': 1789}}, 'category': 'red blood cell'}, {'bounding_box': {'minimum': {'r': 709, 'c': 1132}, 'maximum': {'r': 843, 'c': 1273}}, 'category': 'red blood cell'}, {'bounding_box': {'minimum': {'r': 762, 'c': 1479}, 'maximum': {'r': 912, 'c': 1639}}, 'category': 'red blood cell'}, {'bounding_box': {'minimum': {'r': 940, 'c': 1727}, 'maximum': {'r': 1076, 'c': 1840}}, 'category': 'red blood cell'}, {'bounding_box': {'minimum': {'r': 786, 'c': 1373}, 'maximum': {'r': 958, 'c': 1510}}, 'category': 'red blood cell'}, {'bounding_box': {'minimum': {'r': 1135, 'c': 768}, 'maximum': {'r': 1254, 'c': 881}}, 'category': 'red blood cell'}, {'bounding_box': {'minimum': {'r': 175, 'c': 127}, 'maximum': {'r': 329, 'c': 265}}, 'category': 'red blood cell'}, {'bounding_box': {'minimum': {'r': 429, 'c': 1749}, 'maximum': {'r': 568, 'c': 1890}}, 'category': 'red blood cell'}, {'bounding_box': {'minimum': {'r': 604, 'c': 131}, 'maximum': {'r': 731, 'c': 250}}, 'category': 'red blood cell'}, {'bounding_box': {'minimum': {'r': 244, 'c': 1787}, 'maximum': {'r': 397, 'c': 1927}}, 'category': 'red blood cell'}, {'bounding_box': {'minimum': {'r': 472, 'c': 506}, 'maximum': {'r': 654, 'c': 625}}, 'category': 'red blood cell'}, {'bounding_box': {'minimum': {'r': 285, 'c': 96}, 'maximum': {'r': 415, 'c': 273}}, 'category': 'red blood cell'}, {'bounding_box': {'minimum': {'r': 723, 'c': 701}, 'maximum': {'r': 881, 'c': 834}}, 'category': 'red blood cell'}, {'bounding_box': {'minimum': {'r': 942, 'c': 1104}, 'maximum': {'r': 1076, 'c': 1242}}, 'category': 'red blood cell'}, {'bounding_box': {'minimum': {'r': 182, 'c': 239}, 'maximum': {'r': 327, 'c': 377}}, 'category': 'red blood cell'}, {'bounding_box': {'minimum': {'r': 840, 'c': 1650}, 'maximum': {'r': 987, 'c': 1791}}, 'category': 'red blood cell'}, {'bounding_box': {'minimum': {'r': 221, 'c': 807}, 'maximum': {'r': 369, 'c': 951}}, 'category': 'red blood cell'}, {'bounding_box': {'minimum': {'r': 16, 'c': 1167}, 'maximum': {'r': 141, 'c': 1311}}, 'category': 'red blood cell'}, {'bounding_box': {'minimum': {'r': 814, 'c': 1107}, 'maximum': {'r': 952, 'c': 1258}}, 'category': 'red blood cell'}, {'bounding_box': {'minimum': {'r': 41, 'c': 1565}, 'maximum': {'r': 233, 'c': 1710}}, 'category': 'red blood cell'}, {'bounding_box': {'minimum': {'r': 617, 'c': 914}, 'maximum': {'r': 761, 'c': 1086}}, 'category': 'red blood cell'}, {'bounding_box': {'minimum': {'r': 321, 'c': 1657}, 'maximum': {'r': 467, 'c': 1811}}, 'category': 'red blood cell'}, {'bounding_box': {'minimum': {'r': 26, 'c': 1437}, 'maximum': {'r': 180, 'c': 1596}}, 'category': 'red blood cell'}, {'bounding_box': {'minimum': {'r': 124, 'c': 983}, 'maximum': {'r': 268, 'c': 1132}}, 'category': 'red blood cell'}, {'bounding_box': {'minimum': {'r': 111, 'c': 796}, 'maximum': {'r': 239, 'c': 938}}, 'category': 'red blood cell'}, {'bounding_box': {'minimum': {'r': 992, 'c': 1436}, 'maximum': {'r': 1120, 'c': 1581}}, 'category': 'red blood cell'}, {'bounding_box': {'minimum': {'r': 745, 'c': 1268}, 'maximum': {'r': 888, 'c': 1403}}, 'category': 'red blood cell'}, {'bounding_box': {'minimum': {'r': 408, 'c': 287}, 'maximum': {'r': 575, 'c': 414}}, 'category': 'red blood cell'}, {'bounding_box': {'minimum': {'r': 291, 'c': 734}, 'maximum': {'r': 413, 'c': 874}}, 'category': 'red blood cell'}, {'bounding_box': {'minimum': {'r': 714, 'c': 1032}, 'maximum': {'r': 835, 'c': 1146}}, 'category': 'red blood cell'}, {'bounding_box': {'minimum': {'r': 275, 'c': 344}, 'maximum': {'r': 453, 'c': 467}}, 'category': 'red blood cell'}, {'bounding_box': {'minimum': {'r': 301, 'c': 443}, 'maximum': {'r': 474, 'c': 572}}, 'category': 'red blood cell'}, {'bounding_box': {'minimum': {'r': 76, 'c': 1057}, 'maximum': {'r': 205, 'c': 1236}}, 'category': 'red blood cell'}, {'bounding_box': {'minimum': {'r': 542, 'c': 929}, 'maximum': {'r': 669, 'c': 1060}}, 'category': 'red blood cell'}, {'bounding_box': {'minimum': {'r': 311, 'c': 1150}, 'maximum': {'r': 441, 'c': 1324}}, 'category': 'red blood cell'}, {'bounding_box': {'minimum': {'r': 536, 'c': 1386}, 'maximum': {'r': 690, 'c': 1536}}, 'category': 'red blood cell'}, {'bounding_box': {'minimum': {'r': 118, 'c': 1359}, 'maximum': {'r': 267, 'c': 1512}}, 'category': 'red blood cell'}, {'bounding_box': {'minimum': {'r': 663, 'c': 1068}, 'maximum': {'r': 778, 'c': 1183}}, 'category': 'red blood cell'}, {'bounding_box': {'minimum': {'r': 922, 'c': 1229}, 'maximum': {'r': 1059, 'c': 1399}}, 'category': 'red blood cell'}, {'bounding_box': {'minimum': {'r': 1081, 'c': 798}, 'maximum': {'r': 1178, 'c': 927}}, 'category': 'red blood cell'}, {'bounding_box': {'minimum': {'r': 505, 'c': 1614}, 'maximum': {'r': 634, 'c': 1752}}, 'category': 'red blood cell'}, {'bounding_box': {'minimum': {'r': 251, 'c': 264}, 'maximum': {'r': 391, 'c': 416}}, 'category': 'red blood cell'}, {'bounding_box': {'minimum': {'r': 821, 'c': 255}, 'maximum': {'r': 972, 'c': 418}}, 'category': 'ring'}, {'bounding_box': {'minimum': {'r': 127, 'c': 680}, 'maximum': {'r': 319, 'c': 824}}, 'category': 'trophozoite'}, {'bounding_box': {'minimum': {'r': 378, 'c': 88}, 'maximum': {'r': 590, 'c': 249}}, 'category': 'trophozoite'}, {'bounding_box': {'minimum': {'r': 277, 'c': 545}, 'maximum': {'r': 416, 'c': 699}}, 'category': 'red blood cell'}, {'bounding_box': {'minimum': {'r': 494, 'c': 1023}, 'maximum': {'r': 662, 'c': 1178}}, 'category': 'red blood cell'}, {'bounding_box': {'minimum': {'r': 596, 'c': 203}, 'maximum': {'r': 727, 'c': 309}}, 'category': 'red blood cell'}, {'bounding_box': {'minimum': {'r': 170, 'c': 906}, 'maximum': {'r': 334, 'c': 1051}}, 'category': 'red blood cell'}, {'bounding_box': {'minimum': {'r': 35, 'c': 902}, 'maximum': {'r': 188, 'c': 1049}}, 'category': 'red blood cell'}]}, {'image': {'checksum': '50634ef166ae993b4562b96f315ff6db', 'pathname': '/images/abb72ce2-4193-4dd3-a34c-61c2ee22ccff.jpg', 'shape': {'r': 1383, 'c': 1944, 'channels': 3}}, 'objects': [{'bounding_box': {'minimum': {'r': 402, 'c': 776}, 'maximum': {'r': 529, 'c': 919}}, 'category': 'red blood cell'}, {'bounding_box': {'minimum': {'r': 87, 'c': 1334}, 'maximum': {'r': 220, 'c': 1465}}, 'category': 'red blood cell'}, {'bounding_box': {'minimum': {'r': 612, 'c': 942}, 'maximum': {'r': 741, 'c': 1078}}, 'category': 'red blood cell'}, {'bounding_box': {'minimum': {'r': 1033, 'c': 593}, 'maximum': {'r': 1145, 'c': 712}}, 'category': 'red blood cell'}, {'bounding_box': {'minimum': {'r': 1166, 'c': 953}, 'maximum': {'r': 1285, 'c': 1074}}, 'category': 'red blood cell'}, {'bounding_box': {'minimum': {'r': 642, 'c': 556}, 'maximum': {'r': 773, 'c': 684}}, 'category': 'red blood cell'}, {'bounding_box': {'minimum': {'r': 476, 'c': 928}, 'maximum': {'r': 605, 'c': 1070}}, 'category': 'red blood cell'}, {'bounding_box': {'minimum': {'r': 1016, 'c': 1615}, 'maximum': {'r': 1151, 'c': 1755}}, 'category': 'red blood cell'}, {'bounding_box': {'minimum': {'r': 188, 'c': 1504}, 'maximum': {'r': 315, 'c': 1654}}, 'category': 'red blood cell'}, {'bounding_box': {'minimum': {'r': 95, 'c': 964}, 'maximum': {'r': 226, 'c': 1088}}, 'category': 'red blood cell'}, {'bounding_box': {'minimum': {'r': 1122, 'c': 307}, 'maximum': {'r': 1264, 'c': 444}}, 'category': 'red blood cell'}, {'bounding_box': {'minimum': {'r': 1112, 'c': 1540}, 'maximum': {'r': 1224, 'c': 1654}}, 'category': 'red blood cell'}, {'bounding_box': {'minimum': {'r': 514, 'c': 262}, 'maximum': {'r': 639, 'c': 388}}, 'category': 'red blood cell'}, {'bounding_box': {'minimum': {'r': 464, 'c': 1793}, 'maximum': {'r': 592, 'c': 1920}}, 'category': 'red blood cell'}, {'bounding_box': {'minimum': {'r': 215, 'c': 1744}, 'maximum': {'r': 357, 'c': 1876}}, 'category': 'red blood cell'}, {'bounding_box': {'minimum': {'r': 117, 'c': 1210}, 'maximum': {'r': 246, 'c': 1343}}, 'category': 'red blood cell'}, {'bounding_box': {'minimum': {'r': 859, 'c': 158}, 'maximum': {'r': 991, 'c': 293}}, 'category': 'red blood cell'}, {'bounding_box': {'minimum': {'r': 987, 'c': 794}, 'maximum': {'r': 1101, 'c': 919}}, 'category': 'red blood cell'}, {'bounding_box': {'minimum': {'r': 86, 'c': 1085}, 'maximum': {'r': 211, 'c': 1222}}, 'category': 'red blood cell'}, {'bounding_box': {'minimum': {'r': 588, 'c': 467}, 'maximum': {'r': 703, 'c': 584}}, 'category': 'red blood cell'}, {'bounding_box': {'minimum': {'r': 888, 'c': 320}, 'maximum': {'r': 1008, 'c': 447}}, 'category': 'red blood cell'}, {'bounding_box': {'minimum': {'r': 338, 'c': 144}, 'maximum': {'r': 458, 'c': 264}}, 'category': 'red blood cell'}, {'bounding_box': {'minimum': {'r': 617, 'c': 1379}, 'maximum': {'r': 756, 'c': 1522}}, 'category': 'red blood cell'}, {'bounding_box': {'minimum': {'r': 27, 'c': 635}, 'maximum': {'r': 146, 'c': 756}}, 'category': 'red blood cell'}, {'bounding_box': {'minimum': {'r': 872, 'c': 1152}, 'maximum': {'r': 1019, 'c': 1289}}, 'category': 'red blood cell'}, {'bounding_box': {'minimum': {'r': 716, 'c': 1208}, 'maximum': {'r': 859, 'c': 1348}}, 'category': 'red blood cell'}, {'bounding_box': {'minimum': {'r': 668, 'c': 295}, 'maximum': {'r': 817, 'c': 417}}, 'category': 'red blood cell'}, {'bounding_box': {'minimum': {'r': 303, 'c': 1365}, 'maximum': {'r': 438, 'c': 1519}}, 'category': 'red blood cell'}, {'bounding_box': {'minimum': {'r': 773, 'c': 1356}, 'maximum': {'r': 907, 'c': 1505}}, 'category': 'red blood cell'}, {'bounding_box': {'minimum': {'r': 390, 'c': 1507}, 'maximum': {'r': 531, 'c': 1652}}, 'category': 'red blood cell'}, {'bounding_box': {'minimum': {'r': 1251, 'c': 276}, 'maximum': {'r': 1381, 'c': 418}}, 'category': 'red blood cell'}, {'bounding_box': {'minimum': {'r': 788, 'c': 1776}, 'maximum': {'r': 904, 'c': 1891}}, 'category': 'red blood cell'}, {'bounding_box': {'minimum': {'r': 674, 'c': 1771}, 'maximum': {'r': 799, 'c': 1910}}, 'category': 'red blood cell'}, {'bounding_box': {'minimum': {'r': 881, 'c': 1279}, 'maximum': {'r': 1025, 'c': 1429}}, 'category': 'red blood cell'}, {'bounding_box': {'minimum': {'r': 1191, 'c': 112}, 'maximum': {'r': 1346, 'c': 230}}, 'category': 'red blood cell'}, {'bounding_box': {'minimum': {'r': 943, 'c': 208}, 'maximum': {'r': 1060, 'c': 315}}, 'category': 'red blood cell'}, {'bounding_box': {'minimum': {'r': 615, 'c': 807}, 'maximum': {'r': 714, 'c': 932}}, 'category': 'red blood cell'}, {'bounding_box': {'minimum': {'r': 864, 'c': 601}, 'maximum': {'r': 966, 'c': 735}}, 'category': 'red blood cell'}, {'bounding_box': {'minimum': {'r': 949, 'c': 1398}, 'maximum': {'r': 1123, 'c': 1540}}, 'category': 'red blood cell'}, {'bounding_box': {'minimum': {'r': 945, 'c': 464}, 'maximum': {'r': 1060, 'c': 572}}, 'category': 'red blood cell'}, {'bounding_box': {'minimum': {'r': 527, 'c': 834}, 'maximum': {'r': 611, 'c': 928}}, 'category': 'red blood cell'}, {'bounding_box': {'minimum': {'r': 984, 'c': 908}, 'maximum': {'r': 1092, 'c': 1025}}, 'category': 'red blood cell'}, {'bounding_box': {'minimum': {'r': 227, 'c': 938}, 'maximum': {'r': 357, 'c': 1056}}, 'category': 'red blood cell'}, {'bounding_box': {'minimum': {'r': 1196, 'c': 749}, 'maximum': {'r': 1332, 'c': 920}}, 'category': 'red blood cell'}, {'bounding_box': {'minimum': {'r': 1247, 'c': 1754}, 'maximum': {'r': 1382, 'c': 1879}}, 'category': 'red blood cell'}, {'bounding_box': {'minimum': {'r': 727, 'c': 735}, 'maximum': {'r': 868, 'c': 879}}, 'category': 'red blood cell'}, {'bounding_box': {'minimum': {'r': 760, 'c': 553}, 'maximum': {'r': 867, 'c': 721}}, 'category': 'schizont'}]}, {'image': {'checksum': '74dd777a74e5a4b24aaee574a99e1459', 'pathname': '/images/8db76867-671a-4488-a7b6-991e4dd2e05f.jpg', 'shape': {'r': 1383, 'c': 1944, 'channels': 3}}, 'objects': [{'bounding_box': {'minimum': {'r': 314, 'c': 1054}, 'maximum': {'r': 433, 'c': 1186}}, 'category': 'red blood cell'}, {'bounding_box': {'minimum': {'r': 1080, 'c': 48}, 'maximum': {'r': 1188, 'c': 170}}, 'category': 'red blood cell'}, {'bounding_box': {'minimum': {'r': 38, 'c': 1105}, 'maximum': {'r': 171, 'c': 1235}}, 'category': 'red blood cell'}, {'bounding_box': {'minimum': {'r': 856, 'c': 1012}, 'maximum': {'r': 994, 'c': 1143}}, 'category': 'red blood cell'}, {'bounding_box': {'minimum': {'r': 700, 'c': 657}, 'maximum': {'r': 820, 'c': 788}}, 'category': 'red blood cell'}, {'bounding_box': {'minimum': {'r': 465, 'c': 249}, 'maximum': {'r': 581, 'c': 385}}, 'category': 'red blood cell'}, {'bounding_box': {'minimum': {'r': 189, 'c': 500}, 'maximum': {'r': 321, 'c': 648}}, 'category': 'red blood cell'}, {'bounding_box': {'minimum': {'r': 38, 'c': 437}, 'maximum': {'r': 182, 'c': 573}}, 'category': 'red blood cell'}, {'bounding_box': {'minimum': {'r': 512, 'c': 580}, 'maximum': {'r': 638, 'c': 721}}, 'category': 'red blood cell'}, {'bounding_box': {'minimum': {'r': 721, 'c': 89}, 'maximum': {'r': 833, 'c': 216}}, 'category': 'red blood cell'}, {'bounding_box': {'minimum': {'r': 938, 'c': 475}, 'maximum': {'r': 1044, 'c': 591}}, 'category': 'red blood cell'}, {'bounding_box': {'minimum': {'r': 279, 'c': 1543}, 'maximum': {'r': 416, 'c': 1682}}, 'category': 'red blood cell'}, {'bounding_box': {'minimum': {'r': 135, 'c': 94}, 'maximum': {'r': 269, 'c': 227}}, 'category': 'red blood cell'}, {'bounding_box': {'minimum': {'r': 917, 'c': 229}, 'maximum': {'r': 1043, 'c': 359}}, 'category': 'red blood cell'}, {'bounding_box': {'minimum': {'r': 797, 'c': 171}, 'maximum': {'r': 929, 'c': 309}}, 'category': 'red blood cell'}, {'bounding_box': {'minimum': {'r': 734, 'c': 1140}, 'maximum': {'r': 849, 'c': 1270}}, 'category': 'red blood cell'}, {'bounding_box': {'minimum': {'r': 715, 'c': 1307}, 'maximum': {'r': 838, 'c': 1447}}, 'category': 'red blood cell'}, {'bounding_box': {'minimum': {'r': 165, 'c': 1030}, 'maximum': {'r': 271, 'c': 1161}}, 'category': 'red blood cell'}, {'bounding_box': {'minimum': {'r': 1102, 'c': 1316}, 'maximum': {'r': 1198, 'c': 1434}}, 'category': 'red blood cell'}, {'bounding_box': {'minimum': {'r': 1231, 'c': 244}, 'maximum': {'r': 1354, 'c': 372}}, 'category': 'red blood cell'}, {'bounding_box': {'minimum': {'r': 1213, 'c': 1102}, 'maximum': {'r': 1341, 'c': 1244}}, 'category': 'red blood cell'}, {'bounding_box': {'minimum': {'r': 90, 'c': 1789}, 'maximum': {'r': 205, 'c': 1924}}, 'category': 'red blood cell'}, {'bounding_box': {'minimum': {'r': 141, 'c': 668}, 'maximum': {'r': 245, 'c': 779}}, 'category': 'red blood cell'}, {'bounding_box': {'minimum': {'r': 423, 'c': 438}, 'maximum': {'r': 538, 'c': 561}}, 'category': 'red blood cell'}, {'bounding_box': {'minimum': {'r': 1114, 'c': 942}, 'maximum': {'r': 1242, 'c': 1086}}, 'category': 'red blood cell'}, {'bounding_box': {'minimum': {'r': 597, 'c': 436}, 'maximum': {'r': 710, 'c': 549}}, 'category': 'red blood cell'}, {'bounding_box': {'minimum': {'r': 832, 'c': 1136}, 'maximum': {'r': 966, 'c': 1266}}, 'category': 'red blood cell'}, {'bounding_box': {'minimum': {'r': 319, 'c': 1616}, 'maximum': {'r': 445, 'c': 1758}}, 'category': 'red blood cell'}, {'bounding_box': {'minimum': {'r': 630, 'c': 1196}, 'maximum': {'r': 771, 'c': 1350}}, 'category': 'red blood cell'}, {'bounding_box': {'minimum': {'r': 66, 'c': 842}, 'maximum': {'r': 203, 'c': 965}}, 'category': 'red blood cell'}, {'bounding_box': {'minimum': {'r': 957, 'c': 877}, 'maximum': {'r': 1067, 'c': 986}}, 'category': 'red blood cell'}, {'bounding_box': {'minimum': {'r': 1213, 'c': 1307}, 'maximum': {'r': 1337, 'c': 1441}}, 'category': 'red blood cell'}, {'bounding_box': {'minimum': {'r': 670, 'c': 324}, 'maximum': {'r': 777, 'c': 435}}, 'category': 'red blood cell'}, {'bounding_box': {'minimum': {'r': 1020, 'c': 424}, 'maximum': {'r': 1115, 'c': 522}}, 'category': 'red blood cell'}, {'bounding_box': {'minimum': {'r': 629, 'c': 124}, 'maximum': {'r': 752, 'c': 283}}, 'category': 'red blood cell'}, {'bounding_box': {'minimum': {'r': 975, 'c': 756}, 'maximum': {'r': 1076, 'c': 846}}, 'category': 'red blood cell'}, {'bounding_box': {'minimum': {'r': 509, 'c': 1658}, 'maximum': {'r': 640, 'c': 1778}}, 'category': 'red blood cell'}, {'bounding_box': {'minimum': {'r': 228, 'c': 2}, 'maximum': {'r': 349, 'c': 137}}, 'category': 'red blood cell'}, {'bounding_box': {'minimum': {'r': 616, 'c': 249}, 'maximum': {'r': 718, 'c': 357}}, 'category': 'red blood cell'}, {'bounding_box': {'minimum': {'r': 223, 'c': 807}, 'maximum': {'r': 342, 'c': 916}}, 'category': 'ring'}, {'bounding_box': {'minimum': {'r': 881, 'c': 1236}, 'maximum': {'r': 981, 'c': 1342}}, 'category': 'red blood cell'}, {'bounding_box': {'minimum': {'r': 1027, 'c': 836}, 'maximum': {'r': 1125, 'c': 930}}, 'category': 'red blood cell'}, {'bounding_box': {'minimum': {'r': 678, 'c': 1774}, 'maximum': {'r': 811, 'c': 1883}}, 'category': 'red blood cell'}, {'bounding_box': {'minimum': {'r': 774, 'c': 1839}, 'maximum': {'r': 880, 'c': 1943}}, 'category': 'red blood cell'}, {'bounding_box': {'minimum': {'r': 319, 'c': 51}, 'maximum': {'r': 409, 'c': 137}}, 'category': 'red blood cell'}, {'bounding_box': {'minimum': {'r': 1279, 'c': 152}, 'maximum': {'r': 1362, 'c': 240}}, 'category': 'red blood cell'}, {'bounding_box': {'minimum': {'r': 566, 'c': 1672}, 'maximum': {'r': 714, 'c': 1759}}, 'category': 'red blood cell'}, {'bounding_box': {'minimum': {'r': 1244, 'c': 994}, 'maximum': {'r': 1382, 'c': 1136}}, 'category': 'red blood cell'}, {'bounding_box': {'minimum': {'r': 962, 'c': 1522}, 'maximum': {'r': 1108, 'c': 1681}}, 'category': 'ring'}, {'bounding_box': {'minimum': {'r': 647, 'c': 1723}, 'maximum': {'r': 758, 'c': 1846}}, 'category': 'red blood cell'}]}]\n"
     ]
    }
   ],
   "source": [
    "# Lire les annotations\n",
    "#df_annotations = pd.read_csv(annotations_file)\n",
    "#print(f\"Nombre total d'annotations: {len(df_annotations)}\")\n",
    "#print(df_annotations.head())\n",
    "\n",
    "#lire les annotations en format json\n",
    "import json\n",
    "import os\n",
    "\n",
    "# Le chemin du fichier d'annotations\n",
    "df_annotations = os.path.join(path, 'malaria', 'test.json')\n",
    "\n",
    "# Ouvrir le fichier JSON et charger les annotations\n",
    "with open(df_annotations, 'r') as f:\n",
    "    annotations = json.load(f)\n",
    "\n",
    "# Afficher un aperçu des données\n",
    "print(f\"Nombre total d'annotations: {len(annotations)}\")\n",
    "print(\"Aperçu des premières annotations:\", annotations[:5])  # Affiche les 5 premières annotations\n",
    "\n",
    "# 2. Vérifier le format du JSON et le transformer en DataFrame\n",
    "if isinstance(annotations, dict) and \"annotations\" in annotations:\n",
    "    df_annotations = pd.DataFrame(annotations[\"annotations\"])\n",
    "else:\n",
    "    df_annotations = pd.DataFrame(annotations)\n",
    "id_col = 'image_id'\n",
    "if id_col not in df_annotations.columns:\n",
    "    id_col = df_annotations.columns[0]  # Prend la première colonne comme fallback\n",
    "\n",
    "\n"
   ]
  },
  {
   "cell_type": "code",
   "execution_count": 30,
   "metadata": {},
   "outputs": [],
   "source": [
    "# 2. Créer un Dataset personnalisé pour YOLO\n",
    "class MalariaDataset(Dataset):\n",
    "    def __init__(self, annotations_df, img_dir, transform=None):\n",
    "        self.annotations = annotations_df\n",
    "        self.img_dir = img_dir\n",
    "        self.transform = transform\n",
    "        self.image_ids = annotations_df['image_id'].unique()\n",
    "        \n",
    "    def __len__(self):\n",
    "        return len(self.image_ids)\n",
    "    \n",
    "    def __getitem__(self, idx):\n",
    "        img_id = self.image_ids[idx]\n",
    "        img_path = os.path.join(self.img_dir, f\"{img_id}.png\")\n",
    "        image = cv2.imread(img_path)\n",
    "        image = cv2.cvtColor(image, cv2.COLOR_BGR2RGB)\n",
    "        \n",
    "        # Récupérer toutes les annotations pour cette image\n",
    "        img_annotations = self.annotations[self.annotations['image_id'] == img_id]\n",
    "        \n",
    "        # Dimensions de l'image\n",
    "        height, width = image.shape[:2]\n",
    "        \n",
    "        # Préparer les boîtes englobantes au format YOLO [class_id, x_center, y_center, width, height]\n",
    "        boxes = []\n",
    "        for _, row in img_annotations.iterrows():\n",
    "            # Convertir les coordonnées absolues en coordonnées relatives (format YOLO)\n",
    "            x_min, y_min = row['x_min'], row['y_min']\n",
    "            box_width = row['width']\n",
    "            box_height = row['height']\n",
    "            \n",
    "            # Calculer le centre et normaliser\n",
    "            x_center = (x_min + box_width / 2) / width\n",
    "            y_center = (y_min + box_height / 2) / height\n",
    "            # Normaliser la largeur et la hauteur\n",
    "            norm_width = box_width / width\n",
    "            norm_height = box_height / height\n",
    "            \n",
    "            # Ajouter la classe (0 = parasite de malaria)\n",
    "            boxes.append([0, x_center, y_center, norm_width, norm_height])\n",
    "        \n",
    "        boxes = np.array(boxes)\n",
    "        \n",
    "        if self.transform:\n",
    "            augmented = self.transform(image=image, bboxes=boxes)\n",
    "            image = augmented['image']\n",
    "            boxes = augmented['bboxes']\n",
    "        \n",
    "        return image, torch.tensor(boxes)\n"
   ]
  },
  {
   "cell_type": "code",
   "execution_count": 31,
   "metadata": {},
   "outputs": [
    {
     "name": "stdout",
     "output_type": "stream",
     "text": [
      "Colonnes disponibles : ['image', 'objects']\n",
      "                                               image  \\\n",
      "0  {'checksum': 'eea3bfd6a929bcb06f9786667cd3fbb2...   \n",
      "1  {'checksum': '2d85fc8ffdb875bb569878243437e4f5...   \n",
      "2  {'checksum': 'f7c02b6247f3ccfcd4a22c1f06e0c72c...   \n",
      "\n",
      "                                             objects  \n",
      "0  [{'bounding_box': {'minimum': {'r': 576, 'c': ...  \n",
      "1  [{'bounding_box': {'minimum': {'r': 1048, 'c':...  \n",
      "2  [{'bounding_box': {'minimum': {'r': 979, 'c': ...  \n"
     ]
    }
   ],
   "source": [
    "print(\"Colonnes disponibles :\", df_annotations.columns.tolist())\n",
    "print(df_annotations.head(3))\n"
   ]
  },
  {
   "cell_type": "code",
   "execution_count": 32,
   "metadata": {},
   "outputs": [
    {
     "name": "stdout",
     "output_type": "stream",
     "text": [
      "{'checksum': 'eea3bfd6a929bcb06f9786667cd3fbb2', 'pathname': '/images/41be1bd3-0d31-4881-bf1f-3ccdfa21ff12.jpg', 'shape': {'r': 1383, 'c': 1944, 'channels': 3}}\n"
     ]
    }
   ],
   "source": [
    "print(df_annotations['image'].iloc[0])\n"
   ]
  },
  {
   "cell_type": "code",
   "execution_count": 33,
   "metadata": {},
   "outputs": [],
   "source": [
    "# Extraire le nom du fichier à partir de 'pathname' et créer une nouvelle colonne 'image_id'\n",
    "df_annotations['image_id'] = df_annotations['image'].apply(lambda x: os.path.splitext(os.path.basename(x['pathname']))[0])\n",
    "\n"
   ]
  },
  {
   "cell_type": "code",
   "execution_count": 34,
   "metadata": {},
   "outputs": [
    {
     "name": "stdout",
     "output_type": "stream",
     "text": [
      "Images d'entraînement: 96\n",
      "Images de validation: 24\n"
     ]
    }
   ],
   "source": [
    "# Diviser les données en ensembles d'entraînement et de validation\n",
    "train_ids, val_ids = train_test_split(df_annotations['image_id'].unique(), test_size=0.2, random_state=42)\n",
    "\n",
    "train_df = df_annotations[df_annotations['image_id'].isin(train_ids)]\n",
    "val_df = df_annotations[df_annotations['image_id'].isin(val_ids)]\n",
    "\n",
    "print(f\"Images d'entraînement: {len(train_ids)}\")\n",
    "print(f\"Images de validation: {len(val_ids)}\")\n"
   ]
  },
  {
   "cell_type": "code",
   "execution_count": null,
   "metadata": {},
   "outputs": [],
   "source": []
  },
  {
   "cell_type": "code",
   "execution_count": 35,
   "metadata": {},
   "outputs": [],
   "source": [
    "# 4. Définir les transformations d'augmentation de données\n",
    "try:\n",
    "    import albumentations as A\n",
    "    from albumentations.pytorch import ToTensorV2\n",
    "    \n",
    "    train_transform = A.Compose([\n",
    "        A.Resize(416, 416),\n",
    "        A.HorizontalFlip(p=0.5),\n",
    "        A.RandomBrightnessContrast(p=0.2),\n",
    "        A.Normalize(mean=[0.485, 0.456, 0.406], std=[0.229, 0.224, 0.225]),\n",
    "        ToTensorV2()\n",
    "    ], bbox_params=A.BboxParams(format='yolo', label_fields=[]))\n",
    "    \n",
    "    val_transform = A.Compose([\n",
    "        A.Resize(416, 416),\n",
    "        A.Normalize(mean=[0.485, 0.456, 0.406], std=[0.229, 0.224, 0.225]),\n",
    "        ToTensorV2()\n",
    "    ], bbox_params=A.BboxParams(format='yolo', label_fields=[]))\n",
    "    \n",
    "    # Créer les datasets\n",
    "    train_dataset = MalariaDataset(train_df, images_dir, transform=train_transform)\n",
    "    val_dataset = MalariaDataset(val_df, images_dir, transform=val_transform)\n",
    "    \n",
    "    # Créer les dataloaders\n",
    "    train_loader = DataLoader(train_dataset, batch_size=8, shuffle=True, num_workers=4, collate_fn=lambda x: x)\n",
    "    val_loader = DataLoader(val_dataset, batch_size=8, shuffle=False, num_workers=4, collate_fn=lambda x: x)\n",
    "    \n",
    "except ImportError:\n",
    "    print(\"Pour continuer, installez les bibliothèques requises:\")\n",
    "    print(\"pip install albumentations ultralytics\")\n",
    "\n",
    "\n"
   ]
  },
  {
   "cell_type": "code",
   "execution_count": 36,
   "metadata": {},
   "outputs": [],
   "source": [
    "# 5. Entraîner le modèle YOLO avec Ultralytics\n",
    "def train_yolo():\n",
    "    from ultralytics import YOLO\n",
    "    \n",
    "    # Créer un fichier de configuration YAML pour YOLOv8\n",
    "    config_content = \"\"\"\n",
    "    # YOLOv8 Configuration\n",
    "    path: {dataset_path}\n",
    "    train: {train_path}\n",
    "    val: {val_path}\n",
    "\n",
    "    # Classes\n",
    "    names:\n",
    "      0: malaria_parasite\n",
    "    \"\"\"\n",
    "    \n",
    "    # Créer les répertoires nécessaires\n",
    "    os.makedirs('yolo_data', exist_ok=True)\n",
    "    os.makedirs('yolo_data/images/train', exist_ok=True)\n",
    "    os.makedirs('yolo_data/images/val', exist_ok=True)\n",
    "    os.makedirs('yolo_data/labels/train', exist_ok=True)\n",
    "    os.makedirs('yolo_data/labels/val', exist_ok=True)\n",
    "    \n",
    "    # Préparer les données au format YOLO\n",
    "    prepare_yolo_dataset(train_df, 'train')\n",
    "    prepare_yolo_dataset(val_df, 'val')\n",
    "    \n",
    "    # Écrire le fichier de configuration\n",
    "    with open('yolo_data/malaria.yaml', 'w') as f:\n",
    "        f.write(config_content.format(\n",
    "            dataset_path='yolo_data',\n",
    "            train_path='images/train',\n",
    "            val_path='images/val'\n",
    "        ))\n",
    "    \n",
    "    # Charger le modèle YOLO préentraîné\n",
    "    model = YOLO('yolov8n.pt')\n",
    "    \n",
    "    # Entraîner le modèle\n",
    "    results = model.train(\n",
    "        data='yolo_data/malaria.yaml',\n",
    "        epochs=50,\n",
    "        imgsz=416,\n",
    "        batch=16,\n",
    "        name='malaria_model'\n",
    "    )\n",
    "    \n",
    "    return model, results\n",
    "\n",
    "def prepare_yolo_dataset(annotations_df, subset):\n",
    "    \"\"\"\n",
    "    Prépare les images et annotations au format YOLO\n",
    "    \"\"\"\n",
    "    image_ids = annotations_df['image_id'].unique()\n",
    "    \n",
    "    for img_id in image_ids:\n",
    "        # Copier l'image\n",
    "        src_path = os.path.join(images_dir, f\"{img_id}.png\")\n",
    "        dst_path = os.path.join(f'yolo_data/images/{subset}', f\"{img_id}.png\")\n",
    "        \n",
    "        if os.path.exists(src_path):\n",
    "            # Lire l'image pour obtenir ses dimensions\n",
    "            img = cv2.imread(src_path)\n",
    "            height, width = img.shape[:2]\n",
    "            \n",
    "            # Copier l'image\n",
    "            os.system(f\"cp {src_path} {dst_path}\")\n",
    "            \n",
    "            # Créer le fichier d'annotation YOLO\n",
    "            img_annotations = annotations_df[annotations_df['image_id'] == img_id]\n",
    "            \n",
    "            with open(os.path.join(f'yolo_data/labels/{subset}', f\"{img_id}.txt\"), 'w') as f:\n",
    "                for _, row in img_annotations.iterrows():\n",
    "                    # Convertir au format YOLO: class_id x_center y_center width height\n",
    "                    x_min, y_min = row['x_min'], row['y_min']\n",
    "                    box_width, box_height = row['width'], row['height']\n",
    "                    \n",
    "                    x_center = (x_min + box_width / 2) / width\n",
    "                    y_center = (y_min + box_height / 2) / height\n",
    "                    norm_width = box_width / width\n",
    "                    norm_height = box_height / height\n",
    "                    \n",
    "                    f.write(f\"0 {x_center} {y_center} {norm_width} {norm_height}\\n\")\n"
   ]
  },
  {
   "cell_type": "code",
   "execution_count": 37,
   "metadata": {},
   "outputs": [],
   "source": [
    "# 6. Visualiser les prédictions\n",
    "def visualize_predictions(model, image_path):\n",
    "    results = model.predict(image_path)\n",
    "    \n",
    "    # Afficher l'image avec les prédictions\n",
    "    img = cv2.imread(image_path)\n",
    "    img = cv2.cvtColor(img, cv2.COLOR_BGR2RGB)\n",
    "    \n",
    "    plt.figure(figsize=(10, 10))\n",
    "    plt.imshow(img)\n",
    "    \n",
    "    for result in results:\n",
    "        boxes = result.boxes\n",
    "        for box in boxes:\n",
    "            x1, y1, x2, y2 = box.xyxy[0]\n",
    "            conf = box.conf[0]\n",
    "            cls = int(box.cls[0])\n",
    "            \n",
    "            plt.gca().add_patch(plt.Rectangle((x1, y1), x2-x1, y2-y1, \n",
    "                                             fill=False, edgecolor='red', linewidth=2))\n",
    "            plt.text(x1, y1, f'Parasite: {conf:.2f}', color='white', \n",
    "                     backgroundcolor='red', fontsize=12)\n",
    "    \n",
    "    plt.axis('off')\n",
    "    plt.tight_layout()\n",
    "    plt.savefig('prediction_example.png')\n",
    "    plt.show()"
   ]
  },
  {
   "cell_type": "code",
   "execution_count": 44,
   "metadata": {},
   "outputs": [
    {
     "name": "stdout",
     "output_type": "stream",
     "text": [
      "Images d'entraînement: []\n",
      "Images de validation: []\n"
     ]
    }
   ],
   "source": [
    "import os\n",
    "\n",
    "train_images_dir = 'yolo_data/images/train'\n",
    "val_images_dir = 'yolo_data/images/val'\n",
    "\n",
    "# Vérifier le contenu des répertoires d'images\n",
    "print(\"Images d'entraînement:\", os.listdir(train_images_dir))\n",
    "print(\"Images de validation:\", os.listdir(val_images_dir))\n"
   ]
  },
  {
   "cell_type": "code",
   "execution_count": 51,
   "metadata": {},
   "outputs": [],
   "source": [
    "path: r'C:\\Users\\rachid.mariane\\.cache\\kagglehub\\datasets\\kmader\\malaria-bounding-boxes\\versions\\1\\malaria'  # Chemin vers le répertoire contenant les sous-dossiers 'images' et 'labels'\n",
    "train: r'C:\\Users\\rachid.mariane\\.cache\\kagglehub\\datasets\\kmader\\malaria-bounding-boxes\\versions\\1\\malaria\\images'  # Répertoire des images d'entraînement\n",
    "val: r'C:\\Users\\rachid.mariane\\.cache\\kagglehub\\datasets\\kmader\\malaria-bounding-boxes\\versions\\1\\malaria\\trainig.json'  # Répertoire des images de validation\n",
    "nc: 1  # Nombre de classes\n",
    "names: ['malaria']  # Liste des noms de classes\n"
   ]
  },
  {
   "cell_type": "code",
   "execution_count": 54,
   "metadata": {},
   "outputs": [
    {
     "name": "stdout",
     "output_type": "stream",
     "text": [
      "Préparation des données...\n",
      "Entraînement du modèle YOLO...\n",
      "Ultralytics 8.3.104  Python-3.13.2 torch-2.6.0+cpu CPU (13th Gen Intel Core(TM) i5-1335U)\n",
      "\u001b[34m\u001b[1mengine\\trainer: \u001b[0mtask=detect, mode=train, model=yolov8n.pt, data=C:\\Users\\rachid.mariane\\.cache\\kagglehub\\datasets\\kmader\\malaria-bounding-boxes\\versions\\1\\malaria\\trainig.json, epochs=10, time=None, patience=100, batch=16, imgsz=640, save=True, save_period=-1, cache=False, device=None, workers=8, project=None, name=malaria_model6, exist_ok=False, pretrained=True, optimizer=auto, verbose=True, seed=0, deterministic=True, single_cls=False, rect=False, cos_lr=False, close_mosaic=10, resume=False, amp=True, fraction=1.0, profile=False, freeze=None, multi_scale=False, overlap_mask=True, mask_ratio=4, dropout=0.0, val=True, split=val, save_json=False, save_hybrid=False, conf=None, iou=0.7, max_det=300, half=False, dnn=False, plots=True, source=None, vid_stride=1, stream_buffer=False, visualize=False, augment=False, agnostic_nms=False, classes=None, retina_masks=False, embed=None, show=False, save_frames=False, save_txt=False, save_conf=False, save_crop=False, show_labels=True, show_conf=True, show_boxes=True, line_width=None, format=torchscript, keras=False, optimize=False, int8=False, dynamic=False, simplify=True, opset=None, workspace=None, nms=False, lr0=0.01, lrf=0.01, momentum=0.937, weight_decay=0.0005, warmup_epochs=3.0, warmup_momentum=0.8, warmup_bias_lr=0.1, box=7.5, cls=0.5, dfl=1.5, pose=12.0, kobj=1.0, nbs=64, hsv_h=0.015, hsv_s=0.7, hsv_v=0.4, degrees=0.0, translate=0.1, scale=0.5, shear=0.0, perspective=0.0, flipud=0.0, fliplr=0.5, bgr=0.0, mosaic=1.0, mixup=0.0, copy_paste=0.0, copy_paste_mode=flip, auto_augment=randaugment, erasing=0.4, crop_fraction=1.0, cfg=None, tracker=botsort.yaml, save_dir=runs\\detect\\malaria_model6\n"
     ]
    },
    {
     "ename": "RuntimeError",
     "evalue": "Dataset 'C://Users/rachid.mariane/.cache/kagglehub/datasets/kmader/malaria-bounding-boxes/versions/1/malaria/trainig.json' error  'C:\\Users\\rachid.mariane\\.cache\\kagglehub\\datasets\\kmader\\malaria-bounding-boxes\\versions\\1\\malaria\\trainig.json' does not exist",
     "output_type": "error",
     "traceback": [
      "\u001b[31m---------------------------------------------------------------------------\u001b[39m",
      "\u001b[31mFileNotFoundError\u001b[39m                         Traceback (most recent call last)",
      "\u001b[36mFile \u001b[39m\u001b[32mc:\\Users\\rachid.mariane\\OneDrive - Tersea\\Bureau\\YOLO\\myenv\\Lib\\site-packages\\ultralytics\\engine\\trainer.py:582\u001b[39m, in \u001b[36mBaseTrainer.get_dataset\u001b[39m\u001b[34m(self)\u001b[39m\n\u001b[32m    576\u001b[39m \u001b[38;5;28;01melif\u001b[39;00m \u001b[38;5;28mself\u001b[39m.args.data.split(\u001b[33m\"\u001b[39m\u001b[33m.\u001b[39m\u001b[33m\"\u001b[39m)[-\u001b[32m1\u001b[39m] \u001b[38;5;129;01min\u001b[39;00m {\u001b[33m\"\u001b[39m\u001b[33myaml\u001b[39m\u001b[33m\"\u001b[39m, \u001b[33m\"\u001b[39m\u001b[33myml\u001b[39m\u001b[33m\"\u001b[39m} \u001b[38;5;129;01mor\u001b[39;00m \u001b[38;5;28mself\u001b[39m.args.task \u001b[38;5;129;01min\u001b[39;00m {\n\u001b[32m    577\u001b[39m     \u001b[33m\"\u001b[39m\u001b[33mdetect\u001b[39m\u001b[33m\"\u001b[39m,\n\u001b[32m    578\u001b[39m     \u001b[33m\"\u001b[39m\u001b[33msegment\u001b[39m\u001b[33m\"\u001b[39m,\n\u001b[32m    579\u001b[39m     \u001b[33m\"\u001b[39m\u001b[33mpose\u001b[39m\u001b[33m\"\u001b[39m,\n\u001b[32m    580\u001b[39m     \u001b[33m\"\u001b[39m\u001b[33mobb\u001b[39m\u001b[33m\"\u001b[39m,\n\u001b[32m    581\u001b[39m }:\n\u001b[32m--> \u001b[39m\u001b[32m582\u001b[39m     data = \u001b[43mcheck_det_dataset\u001b[49m\u001b[43m(\u001b[49m\u001b[38;5;28;43mself\u001b[39;49m\u001b[43m.\u001b[49m\u001b[43margs\u001b[49m\u001b[43m.\u001b[49m\u001b[43mdata\u001b[49m\u001b[43m)\u001b[49m\n\u001b[32m    583\u001b[39m     \u001b[38;5;28;01mif\u001b[39;00m \u001b[33m\"\u001b[39m\u001b[33myaml_file\u001b[39m\u001b[33m\"\u001b[39m \u001b[38;5;129;01min\u001b[39;00m data:\n",
      "\u001b[36mFile \u001b[39m\u001b[32mc:\\Users\\rachid.mariane\\OneDrive - Tersea\\Bureau\\YOLO\\myenv\\Lib\\site-packages\\ultralytics\\data\\utils.py:312\u001b[39m, in \u001b[36mcheck_det_dataset\u001b[39m\u001b[34m(dataset, autodownload)\u001b[39m\n\u001b[32m    298\u001b[39m \u001b[38;5;250m\u001b[39m\u001b[33;03m\"\"\"\u001b[39;00m\n\u001b[32m    299\u001b[39m \u001b[33;03mDownload, verify, and/or unzip a dataset if not found locally.\u001b[39;00m\n\u001b[32m    300\u001b[39m \n\u001b[32m   (...)\u001b[39m\u001b[32m    310\u001b[39m \u001b[33;03m    (dict): Parsed dataset information and paths.\u001b[39;00m\n\u001b[32m    311\u001b[39m \u001b[33;03m\"\"\"\u001b[39;00m\n\u001b[32m--> \u001b[39m\u001b[32m312\u001b[39m file = \u001b[43mcheck_file\u001b[49m\u001b[43m(\u001b[49m\u001b[43mdataset\u001b[49m\u001b[43m)\u001b[49m\n\u001b[32m    314\u001b[39m \u001b[38;5;66;03m# Download (optional)\u001b[39;00m\n",
      "\u001b[36mFile \u001b[39m\u001b[32mc:\\Users\\rachid.mariane\\OneDrive - Tersea\\Bureau\\YOLO\\myenv\\Lib\\site-packages\\ultralytics\\utils\\checks.py:546\u001b[39m, in \u001b[36mcheck_file\u001b[39m\u001b[34m(file, suffix, download, download_dir, hard)\u001b[39m\n\u001b[32m    545\u001b[39m \u001b[38;5;28;01mif\u001b[39;00m \u001b[38;5;129;01mnot\u001b[39;00m files \u001b[38;5;129;01mand\u001b[39;00m hard:\n\u001b[32m--> \u001b[39m\u001b[32m546\u001b[39m     \u001b[38;5;28;01mraise\u001b[39;00m \u001b[38;5;167;01mFileNotFoundError\u001b[39;00m(\u001b[33mf\u001b[39m\u001b[33m\"\u001b[39m\u001b[33m'\u001b[39m\u001b[38;5;132;01m{\u001b[39;00mfile\u001b[38;5;132;01m}\u001b[39;00m\u001b[33m'\u001b[39m\u001b[33m does not exist\u001b[39m\u001b[33m\"\u001b[39m)\n\u001b[32m    547\u001b[39m \u001b[38;5;28;01melif\u001b[39;00m \u001b[38;5;28mlen\u001b[39m(files) > \u001b[32m1\u001b[39m \u001b[38;5;129;01mand\u001b[39;00m hard:\n",
      "\u001b[31mFileNotFoundError\u001b[39m: 'C:\\Users\\rachid.mariane\\.cache\\kagglehub\\datasets\\kmader\\malaria-bounding-boxes\\versions\\1\\malaria\\trainig.json' does not exist",
      "\nThe above exception was the direct cause of the following exception:\n",
      "\u001b[31mRuntimeError\u001b[39m                              Traceback (most recent call last)",
      "\u001b[36mCell\u001b[39m\u001b[36m \u001b[39m\u001b[32mIn[54]\u001b[39m\u001b[32m, line 49\u001b[39m\n\u001b[32m     45\u001b[39m         \u001b[38;5;66;03m# Vous pouvez également ajouter une commande pour installer le package si nécessaire\u001b[39;00m\n\u001b[32m     46\u001b[39m         \u001b[38;5;66;03m# os.system('pip install ultralytics')\u001b[39;00m\n\u001b[32m     48\u001b[39m \u001b[38;5;28;01mif\u001b[39;00m \u001b[34m__name__\u001b[39m == \u001b[33m\"\u001b[39m\u001b[33m__main__\u001b[39m\u001b[33m\"\u001b[39m:\n\u001b[32m---> \u001b[39m\u001b[32m49\u001b[39m     \u001b[43mmain\u001b[49m\u001b[43m(\u001b[49m\u001b[43m)\u001b[49m\n",
      "\u001b[36mCell\u001b[39m\u001b[36m \u001b[39m\u001b[32mIn[54]\u001b[39m\u001b[32m, line 34\u001b[39m, in \u001b[36mmain\u001b[39m\u001b[34m()\u001b[39m\n\u001b[32m     32\u001b[39m \u001b[38;5;28;01mtry\u001b[39;00m:\n\u001b[32m     33\u001b[39m     \u001b[38;5;28mprint\u001b[39m(\u001b[33m\"\u001b[39m\u001b[33mEntraînement du modèle YOLO...\u001b[39m\u001b[33m\"\u001b[39m)\n\u001b[32m---> \u001b[39m\u001b[32m34\u001b[39m     model, results = \u001b[43mtrain_yolo\u001b[49m\u001b[43m(\u001b[49m\u001b[43m)\u001b[49m\n\u001b[32m     36\u001b[39m     \u001b[38;5;66;03m# Sélectionner une image pour visualiser les prédictions\u001b[39;00m\n\u001b[32m     37\u001b[39m     sample_img = os.path.join(images_dir, os.listdir(images_dir)[\u001b[32m0\u001b[39m])\n",
      "\u001b[36mCell\u001b[39m\u001b[36m \u001b[39m\u001b[32mIn[54]\u001b[39m\u001b[32m, line 14\u001b[39m, in \u001b[36mtrain_yolo\u001b[39m\u001b[34m()\u001b[39m\n\u001b[32m     11\u001b[39m model = YOLO(\u001b[33m'\u001b[39m\u001b[33myolov8n.pt\u001b[39m\u001b[33m'\u001b[39m)  \u001b[38;5;66;03m# Remplacez par le modèle de votre choix\u001b[39;00m\n\u001b[32m     13\u001b[39m \u001b[38;5;66;03m# Entraîner le modèle\u001b[39;00m\n\u001b[32m---> \u001b[39m\u001b[32m14\u001b[39m results = \u001b[43mmodel\u001b[49m\u001b[43m.\u001b[49m\u001b[43mtrain\u001b[49m\u001b[43m(\u001b[49m\n\u001b[32m     15\u001b[39m \u001b[43m    \u001b[49m\u001b[43mdata\u001b[49m\u001b[43m=\u001b[49m\u001b[43mdata_yaml\u001b[49m\u001b[43m,\u001b[49m\n\u001b[32m     16\u001b[39m \u001b[43m    \u001b[49m\u001b[43mimgsz\u001b[49m\u001b[43m=\u001b[49m\u001b[32;43m640\u001b[39;49m\u001b[43m,\u001b[49m\u001b[43m  \u001b[49m\u001b[38;5;66;43;03m# Taille des images d'entrée\u001b[39;49;00m\n\u001b[32m     17\u001b[39m \u001b[43m    \u001b[49m\u001b[43mepochs\u001b[49m\u001b[43m=\u001b[49m\u001b[32;43m10\u001b[39;49m\u001b[43m,\u001b[49m\u001b[43m  \u001b[49m\u001b[38;5;66;43;03m# Nombre d'époques\u001b[39;49;00m\n\u001b[32m     18\u001b[39m \u001b[43m    \u001b[49m\u001b[43mbatch\u001b[49m\u001b[43m=\u001b[49m\u001b[32;43m16\u001b[39;49m\u001b[43m,\u001b[49m\u001b[43m  \u001b[49m\u001b[38;5;66;43;03m# Taille du lot\u001b[39;49;00m\n\u001b[32m     19\u001b[39m \u001b[43m    \u001b[49m\u001b[43mname\u001b[49m\u001b[43m=\u001b[49m\u001b[33;43m'\u001b[39;49m\u001b[33;43mmalaria_model\u001b[39;49m\u001b[33;43m'\u001b[39;49m\u001b[43m  \u001b[49m\u001b[38;5;66;43;03m# Nom du répertoire de résultats\u001b[39;49;00m\n\u001b[32m     20\u001b[39m \u001b[43m\u001b[49m\u001b[43m)\u001b[49m\n\u001b[32m     21\u001b[39m \u001b[38;5;28;01mreturn\u001b[39;00m model, results\n",
      "\u001b[36mFile \u001b[39m\u001b[32mc:\\Users\\rachid.mariane\\OneDrive - Tersea\\Bureau\\YOLO\\myenv\\Lib\\site-packages\\ultralytics\\engine\\model.py:785\u001b[39m, in \u001b[36mModel.train\u001b[39m\u001b[34m(self, trainer, **kwargs)\u001b[39m\n\u001b[32m    782\u001b[39m \u001b[38;5;28;01mif\u001b[39;00m args.get(\u001b[33m\"\u001b[39m\u001b[33mresume\u001b[39m\u001b[33m\"\u001b[39m):\n\u001b[32m    783\u001b[39m     args[\u001b[33m\"\u001b[39m\u001b[33mresume\u001b[39m\u001b[33m\"\u001b[39m] = \u001b[38;5;28mself\u001b[39m.ckpt_path\n\u001b[32m--> \u001b[39m\u001b[32m785\u001b[39m \u001b[38;5;28mself\u001b[39m.trainer = \u001b[43m(\u001b[49m\u001b[43mtrainer\u001b[49m\u001b[43m \u001b[49m\u001b[38;5;129;43;01mor\u001b[39;49;00m\u001b[43m \u001b[49m\u001b[38;5;28;43mself\u001b[39;49m\u001b[43m.\u001b[49m\u001b[43m_smart_load\u001b[49m\u001b[43m(\u001b[49m\u001b[33;43m\"\u001b[39;49m\u001b[33;43mtrainer\u001b[39;49m\u001b[33;43m\"\u001b[39;49m\u001b[43m)\u001b[49m\u001b[43m)\u001b[49m\u001b[43m(\u001b[49m\u001b[43moverrides\u001b[49m\u001b[43m=\u001b[49m\u001b[43margs\u001b[49m\u001b[43m,\u001b[49m\u001b[43m \u001b[49m\u001b[43m_callbacks\u001b[49m\u001b[43m=\u001b[49m\u001b[38;5;28;43mself\u001b[39;49m\u001b[43m.\u001b[49m\u001b[43mcallbacks\u001b[49m\u001b[43m)\u001b[49m\n\u001b[32m    786\u001b[39m \u001b[38;5;28;01mif\u001b[39;00m \u001b[38;5;129;01mnot\u001b[39;00m args.get(\u001b[33m\"\u001b[39m\u001b[33mresume\u001b[39m\u001b[33m\"\u001b[39m):  \u001b[38;5;66;03m# manually set model only if not resuming\u001b[39;00m\n\u001b[32m    787\u001b[39m     \u001b[38;5;28mself\u001b[39m.trainer.model = \u001b[38;5;28mself\u001b[39m.trainer.get_model(weights=\u001b[38;5;28mself\u001b[39m.model \u001b[38;5;28;01mif\u001b[39;00m \u001b[38;5;28mself\u001b[39m.ckpt \u001b[38;5;28;01melse\u001b[39;00m \u001b[38;5;28;01mNone\u001b[39;00m, cfg=\u001b[38;5;28mself\u001b[39m.model.yaml)\n",
      "\u001b[36mFile \u001b[39m\u001b[32mc:\\Users\\rachid.mariane\\OneDrive - Tersea\\Bureau\\YOLO\\myenv\\Lib\\site-packages\\ultralytics\\engine\\trainer.py:137\u001b[39m, in \u001b[36mBaseTrainer.__init__\u001b[39m\u001b[34m(self, cfg, overrides, _callbacks)\u001b[39m\n\u001b[32m    135\u001b[39m \u001b[38;5;28mself\u001b[39m.model = check_model_file_from_stem(\u001b[38;5;28mself\u001b[39m.args.model)  \u001b[38;5;66;03m# add suffix, i.e. yolo11n -> yolo11n.pt\u001b[39;00m\n\u001b[32m    136\u001b[39m \u001b[38;5;28;01mwith\u001b[39;00m torch_distributed_zero_first(LOCAL_RANK):  \u001b[38;5;66;03m# avoid auto-downloading dataset multiple times\u001b[39;00m\n\u001b[32m--> \u001b[39m\u001b[32m137\u001b[39m     \u001b[38;5;28mself\u001b[39m.trainset, \u001b[38;5;28mself\u001b[39m.testset = \u001b[38;5;28;43mself\u001b[39;49m\u001b[43m.\u001b[49m\u001b[43mget_dataset\u001b[49m\u001b[43m(\u001b[49m\u001b[43m)\u001b[49m\n\u001b[32m    138\u001b[39m \u001b[38;5;28mself\u001b[39m.ema = \u001b[38;5;28;01mNone\u001b[39;00m\n\u001b[32m    140\u001b[39m \u001b[38;5;66;03m# Optimization utils init\u001b[39;00m\n",
      "\u001b[36mFile \u001b[39m\u001b[32mc:\\Users\\rachid.mariane\\OneDrive - Tersea\\Bureau\\YOLO\\myenv\\Lib\\site-packages\\ultralytics\\engine\\trainer.py:586\u001b[39m, in \u001b[36mBaseTrainer.get_dataset\u001b[39m\u001b[34m(self)\u001b[39m\n\u001b[32m    584\u001b[39m             \u001b[38;5;28mself\u001b[39m.args.data = data[\u001b[33m\"\u001b[39m\u001b[33myaml_file\u001b[39m\u001b[33m\"\u001b[39m]  \u001b[38;5;66;03m# for validating 'yolo train data=url.zip' usage\u001b[39;00m\n\u001b[32m    585\u001b[39m \u001b[38;5;28;01mexcept\u001b[39;00m \u001b[38;5;167;01mException\u001b[39;00m \u001b[38;5;28;01mas\u001b[39;00m e:\n\u001b[32m--> \u001b[39m\u001b[32m586\u001b[39m     \u001b[38;5;28;01mraise\u001b[39;00m \u001b[38;5;167;01mRuntimeError\u001b[39;00m(emojis(\u001b[33mf\u001b[39m\u001b[33m\"\u001b[39m\u001b[33mDataset \u001b[39m\u001b[33m'\u001b[39m\u001b[38;5;132;01m{\u001b[39;00mclean_url(\u001b[38;5;28mself\u001b[39m.args.data)\u001b[38;5;132;01m}\u001b[39;00m\u001b[33m'\u001b[39m\u001b[33m error ❌ \u001b[39m\u001b[38;5;132;01m{\u001b[39;00me\u001b[38;5;132;01m}\u001b[39;00m\u001b[33m\"\u001b[39m)) \u001b[38;5;28;01mfrom\u001b[39;00m\u001b[38;5;250m \u001b[39m\u001b[34;01me\u001b[39;00m\n\u001b[32m    587\u001b[39m \u001b[38;5;28mself\u001b[39m.data = data\n\u001b[32m    588\u001b[39m \u001b[38;5;28;01mif\u001b[39;00m \u001b[38;5;28mself\u001b[39m.args.single_cls:\n",
      "\u001b[31mRuntimeError\u001b[39m: Dataset 'C://Users/rachid.mariane/.cache/kagglehub/datasets/kmader/malaria-bounding-boxes/versions/1/malaria/trainig.json' error  'C:\\Users\\rachid.mariane\\.cache\\kagglehub\\datasets\\kmader\\malaria-bounding-boxes\\versions\\1\\malaria\\trainig.json' does not exist"
     ]
    }
   ],
   "source": [
    "import os\n",
    "from ultralytics import YOLO\n",
    "\n",
    "# Définir les répertoires\n",
    "images_dir = r'C:\\Users\\rachid.mariane\\.cache\\kagglehub\\datasets\\kmader\\malaria-bounding-boxes\\versions\\1\\malaria\\images'\n",
    "data_yaml = r'C:\\Users\\rachid.mariane\\.cache\\kagglehub\\datasets\\kmader\\malaria-bounding-boxes\\versions\\1\\malaria\\trainig.json'  # Remplacez par le chemin réel de votre fichier YAML\n",
    "\n",
    "# Fonction d'entraînement\n",
    "def train_yolo():\n",
    "    # Charger un modèle pré-entraîné\n",
    "    model = YOLO('yolov8n.pt')  # Remplacez par le modèle de votre choix\n",
    "    \n",
    "    # Entraîner le modèle\n",
    "    results = model.train(\n",
    "        data=data_yaml,\n",
    "        imgsz=640,  # Taille des images d'entrée\n",
    "        epochs=10,  # Nombre d'époques\n",
    "        batch=16,  # Taille du lot\n",
    "        name='malaria_model'  # Nom du répertoire de résultats\n",
    "    )\n",
    "    return model, results\n",
    "\n",
    "# Fonction de visualisation des prédictions\n",
    "def visualize_predictions(model, img_path):\n",
    "    results = model(img_path)\n",
    "    results.show()  # Affiche les prédictions sur l'image\n",
    "\n",
    "# Fonction principale\n",
    "def main():\n",
    "    print(\"Préparation des données...\")\n",
    "    \n",
    "    try:\n",
    "        print(\"Entraînement du modèle YOLO...\")\n",
    "        model, results = train_yolo()\n",
    "        \n",
    "        # Sélectionner une image pour visualiser les prédictions\n",
    "        sample_img = os.path.join(images_dir, os.listdir(images_dir)[0])\n",
    "        print(f\"Visualisation des prédictions sur {sample_img}...\")\n",
    "        visualize_predictions(model, sample_img)\n",
    "        \n",
    "        print(\"Entraînement terminé! Le modèle est sauvegardé dans runs/detect/malaria_model\")\n",
    "        \n",
    "    except ImportError:\n",
    "        print(\"Pour entraîner le modèle YOLO, installez les bibliothèques requises : ultralytics\")\n",
    "        # Vous pouvez également ajouter une commande pour installer le package si nécessaire\n",
    "        # os.system('pip install ultralytics')\n",
    "\n",
    "if __name__ == \"__main__\":\n",
    "    main()\n"
   ]
  },
  {
   "cell_type": "code",
   "execution_count": null,
   "metadata": {},
   "outputs": [
    {
     "ename": "NameError",
     "evalue": "name 'images' is not defined",
     "output_type": "error",
     "traceback": [
      "\u001b[31m---------------------------------------------------------------------------\u001b[39m",
      "\u001b[31mNameError\u001b[39m                                 Traceback (most recent call last)",
      "\u001b[36mCell\u001b[39m\u001b[36m \u001b[39m\u001b[32mIn[50]\u001b[39m\u001b[32m, line 1\u001b[39m\n\u001b[32m----> \u001b[39m\u001b[32m1\u001b[39m train: \u001b[43mimages\u001b[49m/train\n\u001b[32m      2\u001b[39m val: images/val\n",
      "\u001b[31mNameError\u001b[39m: name 'images' is not defined"
     ]
    }
   ],
   "source": []
  },
  {
   "cell_type": "code",
   "execution_count": null,
   "metadata": {},
   "outputs": [],
   "source": [
    "# 7. Fonction principale\n",
    "def main():\n",
    "    print(\"Préparation des données...\")\n",
    "    \n",
    "    try:\n",
    "        import ultralytics\n",
    "        print(\"Entraînement du modèle YOLO...\")\n",
    "        model, results = train_yolo()\n",
    "        \n",
    "        # Sélectionner une image pour visualiser les prédictions\n",
    "        sample_img = os.path.join(images_di, os.listdir(images_dir)[0])\n",
    "        print(f\"Visualisation des prédictions sur {sample_img}...\")\n",
    "        visualize_predictions(model, sample_img)\n",
    "        \n",
    "        print(\"Entraînement terminé! Le modèle est sauvegardé dans runs/detect/malaria_model\")\n",
    "        \n",
    "    except ImportError:\n",
    "        print(\"Pour entraîner le modèle YOLO, installez les bibliothèques requises:\")\n",
    "        \n",
    "\n",
    "if __name__ == \"__main__\":\n",
    "    main()"
   ]
  }
 ],
 "metadata": {
  "kernelspec": {
   "display_name": "myenv",
   "language": "python",
   "name": "python3"
  },
  "language_info": {
   "codemirror_mode": {
    "name": "ipython",
    "version": 3
   },
   "file_extension": ".py",
   "mimetype": "text/x-python",
   "name": "python",
   "nbconvert_exporter": "python",
   "pygments_lexer": "ipython3",
   "version": "3.13.2"
  }
 },
 "nbformat": 4,
 "nbformat_minor": 2
}
